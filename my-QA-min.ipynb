{
 "cells": [
  {
   "cell_type": "code",
   "id": "initial_id",
   "metadata": {
    "collapsed": true,
    "ExecuteTime": {
     "end_time": "2024-12-04T16:05:56.071770Z",
     "start_time": "2024-12-04T16:05:56.068126Z"
    }
   },
   "source": [
    "# RTX GPU 和 Mac M GPU需要安装不同的Torch版本，查阅PyTorch官网。\n",
    "import torch"
   ],
   "outputs": [],
   "execution_count": 2
  },
  {
   "metadata": {
    "ExecuteTime": {
     "end_time": "2024-12-04T16:05:56.217257Z",
     "start_time": "2024-12-04T16:05:56.176377Z"
    }
   },
   "cell_type": "code",
   "source": [
    "device = \"cuda\" if torch.cuda.is_available() else \"cpu\"\n",
    "print(device)"
   ],
   "id": "784121b7d5e92691",
   "outputs": [
    {
     "name": "stdout",
     "output_type": "stream",
     "text": [
      "cuda\n"
     ]
    }
   ],
   "execution_count": 3
  },
  {
   "metadata": {
    "ExecuteTime": {
     "end_time": "2024-12-04T16:06:34.379880Z",
     "start_time": "2024-12-04T16:05:56.389065Z"
    }
   },
   "cell_type": "code",
   "source": [
    "import importlib\n",
    "\n",
    "try:\n",
    "    importlib.import_module(\"transformers\")\n",
    "    print(\"transformers exists.\")\n",
    "except ImportError:\n",
    "    ! pip install transformers\n",
    "    print(\"transformers installed.\")"
   ],
   "id": "8c034a9a8253ba44",
   "outputs": [
    {
     "name": "stdout",
     "output_type": "stream",
     "text": [
      "Collecting transformerstransformers installed.\n"
     ]
    },
    {
     "name": "stderr",
     "output_type": "stream",
     "text": [
      "ERROR: pip's dependency resolver does not currently take into account all the packages that are installed. This behaviour is the source of the following dependency conflicts.\n",
      "torch 2.5.1 requires sympy==1.13.1; python_version >= \"3.9\", but you have sympy 1.13.2 which is incompatible.\n"
     ]
    },
    {
     "name": "stdout",
     "output_type": "stream",
     "text": [
      "\n",
      "  Downloading transformers-4.46.3-py3-none-any.whl.metadata (44 kB)\n",
      "Requirement already satisfied: filelock in c:\\users\\32982\\miniconda3\\envs\\2-bert\\lib\\site-packages (from transformers) (3.13.1)\n",
      "Collecting huggingface-hub<1.0,>=0.23.2 (from transformers)\n",
      "  Downloading huggingface_hub-0.26.3-py3-none-any.whl.metadata (13 kB)\n",
      "Requirement already satisfied: numpy>=1.17 in c:\\users\\32982\\miniconda3\\envs\\2-bert\\lib\\site-packages (from transformers) (2.0.1)\n",
      "Requirement already satisfied: packaging>=20.0 in c:\\users\\32982\\miniconda3\\envs\\2-bert\\lib\\site-packages (from transformers) (24.1)\n",
      "Requirement already satisfied: pyyaml>=5.1 in c:\\users\\32982\\miniconda3\\envs\\2-bert\\lib\\site-packages (from transformers) (6.0.2)\n",
      "Collecting regex!=2019.12.17 (from transformers)\n",
      "  Downloading regex-2024.11.6-cp312-cp312-win_amd64.whl.metadata (41 kB)\n",
      "Requirement already satisfied: requests in c:\\users\\32982\\miniconda3\\envs\\2-bert\\lib\\site-packages (from transformers) (2.32.3)\n",
      "Collecting tokenizers<0.21,>=0.20 (from transformers)\n",
      "  Downloading tokenizers-0.20.3-cp312-none-win_amd64.whl.metadata (6.9 kB)\n",
      "Collecting safetensors>=0.4.1 (from transformers)\n",
      "  Downloading safetensors-0.4.5-cp312-none-win_amd64.whl.metadata (3.9 kB)\n",
      "Collecting tqdm>=4.27 (from transformers)\n",
      "  Downloading tqdm-4.67.1-py3-none-any.whl.metadata (57 kB)\n",
      "Collecting fsspec>=2023.5.0 (from huggingface-hub<1.0,>=0.23.2->transformers)\n",
      "  Downloading fsspec-2024.10.0-py3-none-any.whl.metadata (11 kB)\n",
      "Requirement already satisfied: typing-extensions>=3.7.4.3 in c:\\users\\32982\\miniconda3\\envs\\2-bert\\lib\\site-packages (from huggingface-hub<1.0,>=0.23.2->transformers) (4.11.0)\n",
      "Requirement already satisfied: colorama in c:\\users\\32982\\miniconda3\\envs\\2-bert\\lib\\site-packages (from tqdm>=4.27->transformers) (0.4.6)\n",
      "Requirement already satisfied: charset-normalizer<4,>=2 in c:\\users\\32982\\miniconda3\\envs\\2-bert\\lib\\site-packages (from requests->transformers) (3.3.2)\n",
      "Requirement already satisfied: idna<4,>=2.5 in c:\\users\\32982\\miniconda3\\envs\\2-bert\\lib\\site-packages (from requests->transformers) (3.7)\n",
      "Requirement already satisfied: urllib3<3,>=1.21.1 in c:\\users\\32982\\miniconda3\\envs\\2-bert\\lib\\site-packages (from requests->transformers) (2.2.3)\n",
      "Requirement already satisfied: certifi>=2017.4.17 in c:\\users\\32982\\miniconda3\\envs\\2-bert\\lib\\site-packages (from requests->transformers) (2024.8.30)\n",
      "Downloading transformers-4.46.3-py3-none-any.whl (10.0 MB)\n",
      "   ---------------------------------------- 0.0/10.0 MB ? eta -:--:--\n",
      "   ---- ----------------------------------- 1.0/10.0 MB 12.7 MB/s eta 0:00:01\n",
      "   ----------------------------- ---------- 7.3/10.0 MB 23.8 MB/s eta 0:00:01\n",
      "   ---------------------------------------- 10.0/10.0 MB 25.1 MB/s eta 0:00:00\n",
      "Downloading huggingface_hub-0.26.3-py3-none-any.whl (447 kB)\n",
      "Downloading regex-2024.11.6-cp312-cp312-win_amd64.whl (273 kB)\n",
      "Downloading safetensors-0.4.5-cp312-none-win_amd64.whl (286 kB)\n",
      "Downloading tokenizers-0.20.3-cp312-none-win_amd64.whl (2.4 MB)\n",
      "   ---------------------------------------- 0.0/2.4 MB ? eta -:--:--\n",
      "   ---------------------------------------- 0.0/2.4 MB ? eta -:--:--\n",
      "   -------- ------------------------------- 0.5/2.4 MB 2.1 MB/s eta 0:00:01\n",
      "   ----------------- ---------------------- 1.0/2.4 MB 2.2 MB/s eta 0:00:01\n",
      "   ---------------------- ----------------- 1.3/2.4 MB 2.2 MB/s eta 0:00:01\n",
      "   ----------------------------------- ---- 2.1/2.4 MB 2.3 MB/s eta 0:00:01\n",
      "   ---------------------------------------- 2.4/2.4 MB 2.3 MB/s eta 0:00:00\n",
      "Downloading tqdm-4.67.1-py3-none-any.whl (78 kB)\n",
      "Downloading fsspec-2024.10.0-py3-none-any.whl (179 kB)\n",
      "Installing collected packages: tqdm, safetensors, regex, fsspec, huggingface-hub, tokenizers, transformers\n",
      "Successfully installed fsspec-2024.10.0 huggingface-hub-0.26.3 regex-2024.11.6 safetensors-0.4.5 tokenizers-0.20.3 tqdm-4.67.1 transformers-4.46.3\n"
     ]
    }
   ],
   "execution_count": 4
  },
  {
   "metadata": {
    "ExecuteTime": {
     "end_time": "2024-12-04T16:06:37.914200Z",
     "start_time": "2024-12-04T16:06:34.388539Z"
    }
   },
   "cell_type": "code",
   "source": "from transformers import BertTokenizerFast, BertForQuestionAnswering",
   "id": "32e22de286ebf49e",
   "outputs": [
    {
     "name": "stderr",
     "output_type": "stream",
     "text": [
      "C:\\Users\\32982\\miniconda3\\envs\\2-BERT\\Lib\\site-packages\\tqdm\\auto.py:21: TqdmWarning: IProgress not found. Please update jupyter and ipywidgets. See https://ipywidgets.readthedocs.io/en/stable/user_install.html\n",
      "  from .autonotebook import tqdm as notebook_tqdm\n"
     ]
    }
   ],
   "execution_count": 5
  },
  {
   "metadata": {
    "ExecuteTime": {
     "end_time": "2024-12-04T16:06:38.522323Z",
     "start_time": "2024-12-04T16:06:37.921151Z"
    }
   },
   "cell_type": "code",
   "source": "tokenizer = BertTokenizerFast.from_pretrained(\"bert-base-chinese\")",
   "id": "b3edfd4401352524",
   "outputs": [],
   "execution_count": 6
  },
  {
   "metadata": {
    "ExecuteTime": {
     "end_time": "2024-12-04T16:06:39.223147Z",
     "start_time": "2024-12-04T16:06:38.530006Z"
    }
   },
   "cell_type": "code",
   "source": [
    "model = BertForQuestionAnswering.from_pretrained(\n",
    "    \"./fengchao-bert-qa\"\n",
    ").to(device)"
   ],
   "id": "e48b67e83de502ac",
   "outputs": [],
   "execution_count": 7
  },
  {
   "metadata": {
    "ExecuteTime": {
     "end_time": "2024-12-04T16:06:39.238874Z",
     "start_time": "2024-12-04T16:06:39.233326Z"
    }
   },
   "cell_type": "code",
   "source": [
    "# 定义一个名为 predict 的函数，接收两个参数 doc 和 query\n",
    "def predict(doc, query):\n",
    "    # 输出“段落：”和  doc 的内容\n",
    "    # print(\"段落：\", doc)\n",
    "    # 输出“提问：”和 query 的内容\n",
    "    print(\"提问：\", query)\n",
    "    # 将 doc 和 query 传递给 tokenizer 函数，将返回结果赋值给 item\n",
    "    item = tokenizer(\n",
    "        [doc, query], max_length=512, return_tensors=\"pt\", truncation=True, padding=True\n",
    "    )\n",
    "    # 关闭 torch 的梯度计算\n",
    "    with torch.no_grad():\n",
    "        # 将 input_ids 和 attention_mask 传递给 model，将返回结果赋值给 outputs\n",
    "        input_ids = item[\"input_ids\"].to(device).reshape(1, -1)\n",
    "        attention_mask = item[\"attention_mask\"].to(device).reshape(1, -1)\n",
    "\n",
    "        outputs = model(input_ids[:, :512], attention_mask[:, :512])\n",
    "\n",
    "        ### START CODE HERE ###\n",
    "        # 使用`torch.argmax`和它的`dim`参数来提取开始位置和结束位置的预测结果\n",
    "        start_pred = torch.argmax(outputs.start_logits, dim=1)\n",
    "        end_pred = torch.argmax(outputs.end_logits, dim=1)\n",
    "        ### END CODE HERE ###\n",
    "\n",
    "    # 将预测结果转为字符级别\n",
    "    try:\n",
    "        start_pred = item.token_to_chars(0, start_pred)\n",
    "        end_pred = item.token_to_chars(0, end_pred)\n",
    "    except:\n",
    "        # 如果出现异常，则返回“无法找到答案”\n",
    "        return \"无法找到答案\"\n",
    "\n",
    "    # 判断结果是否有效，如果有效则返回结果\n",
    "    if start_pred.start > end_pred.end:\n",
    "        # 如果预测的开始位置大于结束位置，则返回“无法找到答案”\n",
    "        return \"无法找到答案\"\n",
    "    else:\n",
    "        # 如果预测的开始位置小于结束位置，则返回预测的答案\n",
    "        return doc[start_pred.start : end_pred.end]\n"
   ],
   "id": "c0308c5533ce171b",
   "outputs": [],
   "execution_count": 8
  },
  {
   "metadata": {
    "ExecuteTime": {
     "end_time": "2024-12-04T16:06:39.251753Z",
     "start_time": "2024-12-04T16:06:39.248770Z"
    }
   },
   "cell_type": "code",
   "source": "doc = \"芙宁娜是米哈游开发的电子游戏《原神》中的虚构角色。她是游戏中虚构国家枫丹的前最高统治者，是水神芙卡洛斯的人类分身与扮演者。退位后，芙宁娜不再扮演水神，过上普通人的生活。芙宁娜是游戏中兼具“荒性”和“芒性”两种水元素能力的角色，还可以在水面上移动。评论员对芙宁娜角色塑造的评价在早期偏向负面，浮夸和违和的表演型性格被批评缺乏神明的威严；在主线剧情揭晓芙宁娜身世后，评价转向正面，评论员称赞芙宁娜体现了女性坚忍不拔的精神力量。角色在战斗中强大的辅助能力得到评论员的正面评价。\"",
   "id": "3492e53c02008da6",
   "outputs": [],
   "execution_count": 9
  },
  {
   "metadata": {
    "ExecuteTime": {
     "end_time": "2024-12-04T16:06:39.589213Z",
     "start_time": "2024-12-04T16:06:39.262282Z"
    }
   },
   "cell_type": "code",
   "source": "predict(doc= doc, query=\"水神的名字是什么\")",
   "id": "aed45dd75f8a23be",
   "outputs": [
    {
     "name": "stdout",
     "output_type": "stream",
     "text": [
      "提问： 水神的名字是什么\n"
     ]
    },
    {
     "data": {
      "text/plain": [
       "'芙卡洛斯'"
      ]
     },
     "execution_count": 10,
     "metadata": {},
     "output_type": "execute_result"
    }
   ],
   "execution_count": 10
  },
  {
   "metadata": {
    "ExecuteTime": {
     "end_time": "2024-12-04T16:06:39.629423Z",
     "start_time": "2024-12-04T16:06:39.599532Z"
    }
   },
   "cell_type": "code",
   "source": "predict(doc= doc, query=\"芙宁娜有几种元素能力\")",
   "id": "5cc1520167f93933",
   "outputs": [
    {
     "name": "stdout",
     "output_type": "stream",
     "text": [
      "提问： 芙宁娜有几种元素能力\n"
     ]
    },
    {
     "data": {
      "text/plain": [
       "'兼具“荒性”和“芒性”两种'"
      ]
     },
     "execution_count": 11,
     "metadata": {},
     "output_type": "execute_result"
    }
   ],
   "execution_count": 11
  },
  {
   "metadata": {
    "ExecuteTime": {
     "end_time": "2024-12-04T16:06:39.677260Z",
     "start_time": "2024-12-04T16:06:39.649662Z"
    }
   },
   "cell_type": "code",
   "source": "predict(doc= doc, query=\"为什么芙宁娜的评价转向正面\")",
   "id": "91cb58a740a94381",
   "outputs": [
    {
     "name": "stdout",
     "output_type": "stream",
     "text": [
      "提问： 为什么芙宁娜的评价转向正面\n"
     ]
    },
    {
     "data": {
      "text/plain": [
       "'在主线剧情揭晓芙宁娜身世后，评价转向正面，评论员称赞芙宁娜体现了女性坚忍不拔的精神力量。'"
      ]
     },
     "execution_count": 12,
     "metadata": {},
     "output_type": "execute_result"
    }
   ],
   "execution_count": 12
  },
  {
   "metadata": {
    "ExecuteTime": {
     "end_time": "2024-12-04T16:06:39.697931Z",
     "start_time": "2024-12-04T16:06:39.693970Z"
    }
   },
   "cell_type": "code",
   "source": "doc = \"近年来，随着我国经济的快速发展，新能源汽车产业得到了前所未有的关注。政府出台了一系列扶持政策，旨在推动新能源汽车的研发和普及。截至2024年，我国新能源汽车产销量连续五年位居全球第一。新能源汽车不仅有助于缓解能源危机，还能有效降低环境污染。\\n在新能源汽车领域，电动汽车占据了主导地位。目前，我国已形成了较为完善的电动汽车产业链，包括电池、电机、电控等关键零部件的生产。其中，动力电池作为电动汽车的核心部件，其性能直接影响着电动汽车的续航里程和安全性。我国动力电池企业在技术创新方面取得了显著成果，部分企业已具备与国际巨头竞争的实力。\\n此外，充电基础设施建设也是新能源汽车产业发展的重要环节。近年来，我国充电桩数量迅速增加，覆盖了城市、乡村、高速公路等各个场景。然而，充电桩的布局和运营仍存在一些问题，如充电桩利用率低、充电接口不统一等。\\n为进一步推动新能源汽车产业发展，政府提出了“新能源汽车下乡”活动，鼓励农村地区购买新能源汽车，以促进农村消费升级和绿色出行。同时，我国还在积极开展新能源汽车的国际合作，与国际先进企业共同研发新技术，提升我国新能源汽车产业的国际竞争力。\"",
   "id": "66fda3b2523f996f",
   "outputs": [],
   "execution_count": 13
  },
  {
   "metadata": {
    "ExecuteTime": {
     "end_time": "2024-12-04T16:06:39.738265Z",
     "start_time": "2024-12-04T16:06:39.707977Z"
    }
   },
   "cell_type": "code",
   "source": "predict(doc= doc, query=\"我国新能源汽车产销量连续几年位居全球第一\")",
   "id": "d5b8a38a23789a1b",
   "outputs": [
    {
     "name": "stdout",
     "output_type": "stream",
     "text": [
      "提问： 我国新能源汽车产销量连续几年位居全球第一\n"
     ]
    },
    {
     "data": {
      "text/plain": [
       "'五年'"
      ]
     },
     "execution_count": 14,
     "metadata": {},
     "output_type": "execute_result"
    }
   ],
   "execution_count": 14
  },
  {
   "metadata": {
    "ExecuteTime": {
     "end_time": "2024-12-04T16:06:39.780334Z",
     "start_time": "2024-12-04T16:06:39.749219Z"
    }
   },
   "cell_type": "code",
   "source": "predict(doc= doc, query=\"新能源汽车产业发展的主要目的是什么？\")",
   "id": "212b3029052b2cea",
   "outputs": [
    {
     "name": "stdout",
     "output_type": "stream",
     "text": [
      "提问： 新能源汽车产业发展的主要目的是什么？\n"
     ]
    },
    {
     "data": {
      "text/plain": [
       "'推动新能源汽车的研发和普及'"
      ]
     },
     "execution_count": 15,
     "metadata": {},
     "output_type": "execute_result"
    }
   ],
   "execution_count": 15
  },
  {
   "metadata": {
    "ExecuteTime": {
     "end_time": "2024-12-04T16:06:39.831071Z",
     "start_time": "2024-12-04T16:06:39.801537Z"
    }
   },
   "cell_type": "code",
   "source": "predict(doc= doc, query=\"电动汽车在新能源汽车领域占据什么地位？\")",
   "id": "aa1b6b30a11dcf0f",
   "outputs": [
    {
     "name": "stdout",
     "output_type": "stream",
     "text": [
      "提问： 电动汽车在新能源汽车领域占据什么地位？\n"
     ]
    },
    {
     "data": {
      "text/plain": [
       "'主导地位'"
      ]
     },
     "execution_count": 16,
     "metadata": {},
     "output_type": "execute_result"
    }
   ],
   "execution_count": 16
  },
  {
   "metadata": {
    "ExecuteTime": {
     "end_time": "2024-12-04T16:06:39.875543Z",
     "start_time": "2024-12-04T16:06:39.847393Z"
    }
   },
   "cell_type": "code",
   "source": "predict(doc= doc, query=\"我国动力电池企业在技术创新方面取得了哪些成果\")",
   "id": "fc71081731e49833",
   "outputs": [
    {
     "name": "stdout",
     "output_type": "stream",
     "text": [
      "提问： 我国动力电池企业在技术创新方面取得了哪些成果\n"
     ]
    },
    {
     "data": {
      "text/plain": [
       "'我国动力电池企业在技术创新方面取得了显著成果，部分企业已具备与国际巨头竞争的实力。'"
      ]
     },
     "execution_count": 17,
     "metadata": {},
     "output_type": "execute_result"
    }
   ],
   "execution_count": 17
  },
  {
   "metadata": {
    "ExecuteTime": {
     "end_time": "2024-12-04T16:06:39.914344Z",
     "start_time": "2024-12-04T16:06:39.886749Z"
    }
   },
   "cell_type": "code",
   "source": "predict(doc= doc, query=\"充电基础设施建设在新能源汽车产业发展中扮演什么角色\")",
   "id": "90da6ff38bb780b9",
   "outputs": [
    {
     "name": "stdout",
     "output_type": "stream",
     "text": [
      "提问： 充电基础设施建设在新能源汽车产业发展中扮演什么角色\n"
     ]
    },
    {
     "data": {
      "text/plain": [
       "'充电基础设施建设也是新能源汽车产业发展的重要环节'"
      ]
     },
     "execution_count": 18,
     "metadata": {},
     "output_type": "execute_result"
    }
   ],
   "execution_count": 18
  },
  {
   "metadata": {
    "ExecuteTime": {
     "end_time": "2024-12-04T16:06:39.968874Z",
     "start_time": "2024-12-04T16:06:39.942363Z"
    }
   },
   "cell_type": "code",
   "source": "predict(doc= doc, query=\"政府提出“新能源汽车下乡”活动的作用？\")",
   "id": "a462b2b6bf732d5c",
   "outputs": [
    {
     "name": "stdout",
     "output_type": "stream",
     "text": [
      "提问： 政府提出“新能源汽车下乡”活动的作用？\n"
     ]
    },
    {
     "data": {
      "text/plain": [
       "'鼓励农村地区购买新能源汽车，以促进农村消费升级和绿色出行。'"
      ]
     },
     "execution_count": 19,
     "metadata": {},
     "output_type": "execute_result"
    }
   ],
   "execution_count": 19
  }
 ],
 "metadata": {
  "kernelspec": {
   "display_name": "Python 3",
   "language": "python",
   "name": "python3"
  },
  "language_info": {
   "codemirror_mode": {
    "name": "ipython",
    "version": 2
   },
   "file_extension": ".py",
   "mimetype": "text/x-python",
   "name": "python",
   "nbconvert_exporter": "python",
   "pygments_lexer": "ipython2",
   "version": "2.7.6"
  }
 },
 "nbformat": 4,
 "nbformat_minor": 5
}
